{
 "cells": [
  {
   "cell_type": "markdown",
   "metadata": {},
   "source": [
    "# Homework 1\n",
    "\n",
    "I implemented the Vigenere cipher, and an attack on the Vigenere cipher a few semesters ago when I took cryptography. The implementation may be found [here](https://github.com/Notgnoshi/cryptography). Find the plaintext, key, and ciphertext below.\n",
    "\n",
    "This document was converted from a [Jupyter Notebook](https://jupyter.org/) so that I could experiment using code snippets (and in the future, graphs) in my reports. Please let me know if this document is formatted inappropriately."
   ]
  },
  {
   "cell_type": "code",
   "execution_count": null,
   "metadata": {},
   "outputs": [],
   "source": [
    "from crypto.classical import VigenereCipher\n",
    "from crypto.attacks import VigenereAttack\n",
    "from crypto.random import generate_alpha\n",
    "from crypto.utilities import preprocess"
   ]
  },
  {
   "cell_type": "markdown",
   "metadata": {},
   "source": [
    "The plaintext is the two concatenated fables *The Ingenious Patriot* and *A Hasty Settlement* from *Fantastic Fables* by Ambrose Bierce, and taken from Project Gutenberg."
   ]
  },
  {
   "cell_type": "code",
   "execution_count": null,
   "metadata": {},
   "outputs": [],
   "source": [
    "# 'The Ingenious Patriot', and 'A Hasty Settlement' from 'Fantastic Fables' by Ambrose Bierce\n",
    "plaintext = \"\"\"Having obtained an audience of the King an Ingenious Patriot pulled a paper from his pocket, saying:\n",
    "\n",
    "“May it please your Majesty, I have here a formula for constructing armour-plating which no gun can pierce.  If these plates are adopted in the Royal Navy our warships will be invulnerable, and therefore invincible.  Here, also, are reports of your Majesty’s Ministers, attesting the value of the invention.  I will part with my right in it for a million tumtums.”\n",
    "\n",
    "After examining the papers, the King put them away and promised him an order on the Lord High Treasurer of the Extortion Department for a million tumtums.\n",
    "\n",
    "“And here,” said the Ingenious Patriot, pulling another paper from another pocket, “are the working plans of a gun that I have invented, which will pierce that armour.  Your Majesty’s Royal Brother, the Emperor of Bang, is anxious to purchase it, but loyalty to your Majesty’s throne and person constrains me to offer it first to your Majesty.  The price is one million tumtums.”\n",
    "\n",
    "Having received the promise of another check, he thrust his hand into still another pocket, remarking:\n",
    "\n",
    "“The price of the irresistible gun would have been much greater, your Majesty, but for the fact that its missiles can be so effectively averted by my peculiar method of treating the armour plates with a new—”\n",
    "\n",
    "The King signed to the Great Head Factotum to approach.\n",
    "\n",
    "“Search this man,” he said, “and report how many pockets he has.”\n",
    "\n",
    "“Forty-three, Sire,” said the Great Head Factotum, completing the scrutiny.\n",
    "\n",
    "“May it please your Majesty,” cried the Ingenious Patriot, in terror, “one of them contains tobacco.”\n",
    "\n",
    "“Hold him up by the ankles and shake him,” said the King; “then give him a check for forty-two million tumtums and put him to death.  Let a decree issue declaring ingenuity a capital offence.”\n",
    "\n",
    "“Your Honour,” said an Attorney, rising, “what is the present status of this case—as far as it has gone?”\n",
    "\n",
    "“I have given a judgment for the residuary legatee under the will,” said the Court, “put the costs upon the contestants, decided all questions relating to fees and other charges; and, in short, the estate in litigation has been settled, with all controversies, disputes, misunderstandings, and differences of opinion thereunto appertaining.”\n",
    "\n",
    "“Ah, yes, I see,” said the Attorney, thoughtfully, “we are making progress—we are getting on famously.”\n",
    "\n",
    "“Progress?” echoed the Judge—“progress?  Why, sir, the matter is concluded!”\n",
    "\n",
    "“Exactly, exactly; it had to be concluded in order to give relevancy to the motion that I am about to make.  Your Honour, I move that the judgment of the Court be set aside and the case reopened.”\n",
    "\n",
    "“Upon what ground, sir?” the Judge asked in surprise.\n",
    "\n",
    "“Upon the ground,” said the Attorney, “that after paying all fees and expenses of litigation and all charges against the estate there will still be something left.”\n",
    "\n",
    "“There may have been an error,” said His Honour, thoughtfully—“the Court may have underestimated the value of the estate.  The motion is taken under advisement.”\"\"\""
   ]
  },
  {
   "cell_type": "markdown",
   "metadata": {},
   "source": [
    "The plaintext is close to the 400 word requirement and is 2,358 characters long after preprocessing."
   ]
  },
  {
   "cell_type": "code",
   "execution_count": null,
   "metadata": {},
   "outputs": [],
   "source": [
    "plaintext = ''.join(preprocess(plaintext)).upper()\n",
    "print(plaintext)\n",
    "print(len(plaintext))"
   ]
  },
  {
   "cell_type": "markdown",
   "metadata": {},
   "source": [
    "I picked the following random key and encrypted the message using the Vigenere cipher I wrote a few semesters ago. Note that my implementation used lowercase alphabetic characters, so that is why I keep explicitly converting cases."
   ]
  },
  {
   "cell_type": "code",
   "execution_count": null,
   "metadata": {},
   "outputs": [],
   "source": [
    "key = generate_alpha(12)\n",
    "print(key.upper())"
   ]
  },
  {
   "cell_type": "markdown",
   "metadata": {},
   "source": [
    "So then encrypt the plaintext using the generated key."
   ]
  },
  {
   "cell_type": "code",
   "execution_count": null,
   "metadata": {},
   "outputs": [],
   "source": [
    "cipher = VigenereCipher(key)\n",
    "ciphertext = cipher.encrypt(plaintext)\n",
    "with open('HW1-cipher-Austin-Gill.txt', 'w') as f:\n",
    "    f.write(ciphertext.upper())\n",
    "print(ciphertext.upper())"
   ]
  },
  {
   "cell_type": "markdown",
   "metadata": {},
   "source": [
    "Then to verify that this cipher is breakable, or really that the text I chose is long enough and follows the usual English letter frequencies, I attempted to produce the key from the ciphertext. Not only was I able to produce the correct key length, I was able to produce the actual key used."
   ]
  },
  {
   "cell_type": "code",
   "execution_count": null,
   "metadata": {},
   "outputs": [],
   "source": [
    "attack = VigenereAttack(ciphertext)\n",
    "key_length = attack.probable_key_length()\n",
    "probable_key = attack.probable_key()\n",
    "print(key_length)\n",
    "print(probable_key)\n",
    "print(probable_key == key)"
   ]
  },
  {
   "cell_type": "markdown",
   "metadata": {},
   "source": [
    "I believe this combination of cipher, plaintext, and key are an appropriate choice for this assignment. The Vigenere cipher is appropriate because it is not as trivial as a straight character-to-character mapping that is so easily susceptible to frequency analysis, but yet it’s also a feasible cipher to break.\n",
    "\n",
    "The plaintext is appropriate because it’s works from Ambrose Bierce, the most cynical and misanthropic person I’m aware of. More seriously, the text is appropriate because it does not differ significantly enough from the common English letter frequencies to make a frequency attack infeasible. It’s also long enough that it’s possible to find the key length even up to 12 characters because the key will still cycle enough times.\n",
    "\n",
    "The key is appropriate because its a randomly generated string with not many repeated characters and no discernible pattern."
   ]
  }
 ],
 "metadata": {
  "kernelspec": {
   "display_name": "Python 3",
   "language": "python",
   "name": "python3"
  },
  "language_info": {
   "codemirror_mode": {
    "name": "ipython",
    "version": 3
   },
   "file_extension": ".py",
   "mimetype": "text/x-python",
   "name": "python",
   "nbconvert_exporter": "python",
   "pygments_lexer": "ipython3",
   "version": "3.6.7"
  }
 },
 "nbformat": 4,
 "nbformat_minor": 2
}
