{
 "cells": [
  {
   "cell_type": "markdown",
   "metadata": {},
   "source": [
    "# Homework 1 Report\n",
    "\n",
    "Since I have already implemented a Vigenere cipher attack strategy for my cryptography class, that is what I elected to use for this assignment.\n",
    "\n",
    "Please let me know if you prefer a classical report without the code snippets that I used. I prefer to include both the code I used and a discussion of its results, but this is not an opinion everyone holds."
   ]
  },
  {
   "cell_type": "markdown",
   "metadata": {},
   "source": [
    "## Summary of Vigenere Attack Strategy\n",
    "\n",
    "The attack strategy I implemented is similar to what we discussed in class, but not as sophisticated, I believe. It works by\n",
    "\n",
    "* Compute the probable key length $k$.\n",
    "  * Rotate the ciphertext some number of rotations greater than the believed key length.\n",
    "  * Count the number of coincidences for each rotation.\n",
    "  * The probable key length is the number of rotations corresponding to the highest coincidence.\n",
    "* From $i = 0\\dots k$, build the probable key.\n",
    "  * The $i$th letter of the probable key is $j$th letter corresponding to the maximum dot product of the ciphertext symbol frequency vector and the English letter frequency vector rotated $j$ places."
   ]
  },
  {
   "cell_type": "markdown",
   "metadata": {},
   "source": [
    "In code, we can count the number of coincidences between a ciphertext and its rotated version with\n",
    "```python\n",
    "@staticmethod\n",
    "def coincidences(original, rotation):\n",
    "    \"\"\"Compares a rotated ciphertext with the original ciphertext and counts how many\n",
    "    character coincidences there are for the given rotation.\"\"\"\n",
    "\n",
    "    return sum(o == r for o, r in zip(original, rotation))\n",
    "```\n",
    "Then we can count the number of coincidences resulting from all rotations of the given ciphertext with\n",
    "```python\n",
    "@classmethod\n",
    "def compare_rotations(cls, text, num_rotations=15):\n",
    "    \"\"\"Counts the coincidences of all rotations of the given text.\n",
    "\n",
    "    Takes in an optional tweaking parameter `num_rotations` that sets the number of\n",
    "    rotations to use when counting coincidences in order to determine the probable key\n",
    "    length. The num_rotations parameter should be bigger than the believed key length.\n",
    "\n",
    "    Returns a dictionary of rotation : coincidences pairs\"\"\"\n",
    "\n",
    "    return {\n",
    "        r: cls.coincidences(text, rotate(text, -r))\n",
    "        for r in range(1, min(num_rotations, len(text)))\n",
    "    }\n",
    "```\n",
    "and compute the probable key length of the ciphertext under consideration with\n",
    "```python\n",
    "def probable_key_length(self, num_rotations=15):\n",
    "    \"\"\"Computes the probable key length by comparing rotations of the ciphertext to the\n",
    "    original ciphertext and counting the coincidences. The maximum number of coincidences\n",
    "    is the probable key length.\n",
    "\n",
    "    Takes in an optional tweaking parameter `num_rotations` that sets the number of\n",
    "    rotations to use when counting coincidences in order to determine the probable key\n",
    "    length. The num_rotations parameter should be bigger than the believed key length.\"\"\"\n",
    "    max_coincidence, _ = max_pair(self.compare_rotations(self.ciphertext, num_rotations))\n",
    "    return max_coincidence\n",
    "```\n",
    "Finally, we can compute the probable key with the above dot product approach with\n",
    "```python\n",
    "def probable_key(self, num_rotations=15):\n",
    "    \"\"\"Attempts to find the key by performing a frequency analysis on every\n",
    "    `probable_key_length`th character and performing the second method for finding the\n",
    "    key as described in the textbook.\n",
    "\n",
    "    Assume the key length is known to be n and A_0 is the known English Letter Frequenceies:\n",
    "\n",
    "    for i in 1..n:\n",
    "        * Compute the frequencies of the filtered letters in positions i mod n\n",
    "        * for j in 1..25 compute W dot A_j where A_j is A_0 rotated right j positions\n",
    "        * k_i = the j associated with the maximum dot product in the previous step\n",
    "    The key is then probably {k_1, ..., k_n}.\"\"\"\n",
    "    def proportion_vector(proportions):\n",
    "        \"\"\"Convert a `SymbolFrequencies.proportions` to a numpy vector.\"\"\"\n",
    "        vec = []\n",
    "        for c in string.ascii_lowercase:\n",
    "            try:\n",
    "                vec.append(proportions[c])\n",
    "            except KeyError:\n",
    "                vec.append(0)\n",
    "        return numpy.array(vec)\n",
    "\n",
    "    # Convert ENGLISH_LETTER_FREQUENCIES.values() to an array rather than a dict.view() object\n",
    "    A0 = numpy.array(\n",
    "        [SymbolFrequencies.ENGLISH_LETTER_FREQUENCIES[l] for l in string.ascii_lowercase]\n",
    "    )\n",
    "\n",
    "    key_length = self.probable_key_length(num_rotations)\n",
    "    key = []\n",
    "    for i in range(0, key_length):\n",
    "        # Filter the ciphertext and calculate the symbol frequencies\n",
    "        table = SymbolFrequencies(self.ciphertext[i::key_length])\n",
    "        W = proportion_vector(table.proportions)\n",
    "        # numpy.roll is equivalent to crypto.utilities.rotate, but returns a numpy.ndarray\n",
    "        # Find the alphabet index associated with the maximum dot product\n",
    "        ki, _ = max_pair({j: numpy.dot(W, numpy.roll(A0, j)) for j in range(0, 26)})\n",
    "        key.append(ki)\n",
    "\n",
    "    return \"\".join(map(char_mapping, key))\n",
    "```\n",
    "\n",
    "The implementation of the attack may be found in full [here](https://github.com/Notgnoshi/cryptography/blob/master/crypto/attacks/vigenere.py)."
   ]
  },
  {
   "cell_type": "markdown",
   "metadata": {},
   "source": [
    "## Vigenere Attack on Given Ciphertexts\n",
    "\n",
    "After pasting the contents of the lone `.docx` ciphertext file into a `.txt` file with the same name, I performed the above Vigenere attack on each ciphertext. I chose the Vigenere attack because\n",
    "* It's more complicated than a simpel letter frequency analysis strategy\n",
    "* We talked more about the Vigenere attack than any other in class\n",
    "* The Vigenere cipher seemed the most likely that students would use"
   ]
  },
  {
   "cell_type": "code",
   "execution_count": null,
   "metadata": {},
   "outputs": [],
   "source": [
    "%config InlineBackend.figure_format = 'svg'\n",
    "%matplotlib inline\n",
    "\n",
    "import json\n",
    "import string\n",
    "from glob import glob\n",
    "from operator import itemgetter\n",
    "\n",
    "import matplotlib.pyplot as plt\n",
    "import pandas as pd\n",
    "import seaborn as sns\n",
    "\n",
    "from crypto.attacks import VigenereAttack\n",
    "from crypto.classical import VigenereCipher\n",
    "from crypto.math import SymbolFrequencies\n",
    "from crypto.utilities import preprocess\n",
    "\n",
    "sns.set()"
   ]
  },
  {
   "cell_type": "markdown",
   "metadata": {},
   "source": [
    "After opening each files before running my attack, I noticed that a great many submissions included spaces, punctuation, upper and lowercase numbers, and in one instance non-unicode characters. This forced me to preprocess the contents of each file, converting everything to lowercase, and filtering out any non-alphabetic characters. Usually it is bad form to modify a given ciphertext before performing cryptanalysis, but in this case it was acceptable due to the constraints of the problem. Since it was obvious for some ciphertexts that spaces and punctuation were left untouched, it made sense to strip out the illegal symbols even though the classical Vigenere cipher usually operates on each letter.\n",
    "\n",
    "I simply ran the `VigenereAttack` discussed above on each of the given ciphertexts and collected the results into a JSON file, containing the ciphertext filename, the ciphertext, probable key length, probable key, and the deciphered plaintext using the calculated key."
   ]
  },
  {
   "cell_type": "code",
   "execution_count": null,
   "metadata": {},
   "outputs": [],
   "source": [
    "files = glob('ciphertext/*.txt')\n",
    "ciphertexts = [{'filename': f} for f in files]\n",
    "\n",
    "for c in ciphertexts:\n",
    "    # Some files have non-utf-8 characters, so replace undecodable characters with something else.\n",
    "    with open(c['filename'], 'r', errors='ignore') as f:\n",
    "        # A large number of submissions did not remove punctuation or convert to a single case.\n",
    "        c['ciphertext'] = ''.join(preprocess(f.read()))\n",
    "        attack = VigenereAttack(c['ciphertext'])\n",
    "        c['key_length'] = attack.probable_key_length()\n",
    "        c['key'] = attack.probable_key()\n",
    "        cipher = VigenereCipher(c['key'])\n",
    "        c['plaintext'] = cipher.decrypt(c['ciphertext'])\n",
    "\n",
    "with open('HW1-results-Austin-Gill.json', 'w') as f:\n",
    "    json.dump(ciphertexts, f)"
   ]
  },
  {
   "cell_type": "markdown",
   "metadata": {},
   "source": [
    "After visual inspection of the deciphered plaintext, I found that the Vigenere attack was successful on all but the seven files below. As a check on my above assumption that stripping out nonalphabetic characters was acceptable, I checked the contents of each file. What I found was that only two of the outlier files contained ciphertext that I was unable to decrypt. The rest followed the rules given in the assignment, and yet I was still unable to decipher them.\n",
    "\n",
    "Of note is the file that contained non-unicode symbols. I am unsure how this could have happened, but perhaps my strategy of ignoring the undecodeable characters was incorrect."
   ]
  },
  {
   "cell_type": "code",
   "execution_count": null,
   "metadata": {},
   "outputs": [],
   "source": [
    "failures = [\n",
    "    'ciphertext/126289-718150 - cipher.txt', # followed rules\n",
    "    'ciphertext/126304-718150 - cipher.txt', # unicode decode errors\n",
    "    'ciphertext/142884-718150 - cipher.txt', # followed rules\n",
    "    'ciphertext/144862-718150 - cipher.txt', # Spaces and punctuation\n",
    "    'ciphertext/158105-718150 - cipher.txt', # followed rules\n",
    "    'ciphertext/158517-718150 - cipher.txt', # followed rules\n",
    "    'ciphertext/176145-718150 - cipher.txt', # followed rules\n",
    "]"
   ]
  },
  {
   "cell_type": "markdown",
   "metadata": {},
   "source": [
    "I believe that my Vigenere attack should have been able to decipher any ciphertexts encrypted with a Caesar cipher. But I still wanted to plot the letter frequency histograms and compare them to that of the English language to get a sense of what kind of ciphers I failed to decrypt."
   ]
  },
  {
   "cell_type": "code",
   "execution_count": null,
   "metadata": {},
   "outputs": [],
   "source": [
    "data = list(SymbolFrequencies.ENGLISH_LETTER_FREQUENCIES.items())\n",
    "data.sort(key=itemgetter(1), reverse=True)\n",
    "plt.bar(*zip(*data))\n",
    "plt.title('English letter frequencies')\n",
    "\n",
    "plt.show()"
   ]
  },
  {
   "cell_type": "markdown",
   "metadata": {},
   "source": [
    "What we see is that only two of the ciphertexts I failed to encrypt have similar profiles to that of the English language. This does not necessarily indicate that a Caesar cipher was used however. The same profiles could appear even with a random mapping, rather than an algorithmic rotation like the Caesar cipher."
   ]
  },
  {
   "cell_type": "code",
   "execution_count": null,
   "metadata": {},
   "outputs": [],
   "source": [
    "for fail in failures:\n",
    "    with open(fail, 'r', errors='ignore') as f:\n",
    "        # Remove newlines, etc.\n",
    "        ciphertext = ''.join(preprocess(f.read()))\n",
    "\n",
    "    freq_table = SymbolFrequencies(ciphertext)\n",
    "    data = list(freq_table.proportions.items())\n",
    "    data.sort(key=itemgetter(1), reverse=True)\n",
    "\n",
    "    plt.bar(*zip(*data))\n",
    "    plt.title(f'{fail} letter frequencies')\n",
    "    plt.show()"
   ]
  },
  {
   "cell_type": "markdown",
   "metadata": {},
   "source": [
    "So out of curiosity I attempted to rebuild the random maps based on the histograms and attempt to decipher the ciphertext."
   ]
  },
  {
   "cell_type": "code",
   "execution_count": null,
   "metadata": {},
   "outputs": [],
   "source": [
    "file1 = 'ciphertext/126304-718150 - cipher.txt'\n",
    "file2 = 'ciphertext/158517-718150 - cipher.txt'\n",
    "\n",
    "with open(file1, 'r', errors='ignore') as f1, open(file2, 'r') as f2:\n",
    "    # Remove newlines, etc.\n",
    "    c1 = ''.join(preprocess(f1.read()))\n",
    "    c2 = ''.join(preprocess(f2.read()))\n",
    "\n",
    "    freq1 = SymbolFrequencies(c1)\n",
    "    prop1 = list(freq1.proportions.items())\n",
    "    prop1.sort(key=itemgetter(1), reverse=True)\n",
    "    \n",
    "    freq2 = SymbolFrequencies(c2)\n",
    "    prop2 = list(freq2.proportions.items())\n",
    "    prop2.sort(key=itemgetter(1), reverse=True)\n",
    "    \n",
    "mapping = list(SymbolFrequencies.ENGLISH_LETTER_FREQUENCIES.items())\n",
    "mapping.sort(key=itemgetter(1), reverse=True)\n",
    "mapping = ''.join(t[0] for t in mapping)"
   ]
  },
  {
   "cell_type": "code",
   "execution_count": null,
   "metadata": {},
   "outputs": [],
   "source": [
    "print(mapping)\n",
    "map1 = ''.join(t[0] for t in prop1) + '??'\n",
    "print(map1)\n",
    "map2 = ''.join(t[0] for t in prop2) + '?'\n",
    "print(map2)\n",
    "trans1 = str.maketrans(map1, mapping)\n",
    "trans2 = str.maketrans(map2, mapping)"
   ]
  },
  {
   "cell_type": "code",
   "execution_count": null,
   "metadata": {},
   "outputs": [],
   "source": [
    "plain1 = c1.translate(trans1)\n",
    "plain2 = c2.translate(trans2)"
   ]
  },
  {
   "cell_type": "code",
   "execution_count": null,
   "metadata": {},
   "outputs": [],
   "source": [
    "print(plain1)"
   ]
  },
  {
   "cell_type": "code",
   "execution_count": null,
   "metadata": {},
   "outputs": [],
   "source": [
    "print(plain2)"
   ]
  },
  {
   "cell_type": "markdown",
   "metadata": {},
   "source": [
    "Neither of the of the translated strings make sense, although they do visually look less random than their corresponding ciphertexts. In the first at least, there seem to be fragments of English text, but this might be a coincidence.\n",
    "\n",
    "It makes sense that these straight mappings don't make sense, because that would require that the ciphertext symbol frequencies *exactly* matched up with the English letter frequencies, *and in the same order*. However, this is a strict requirement, and is unlikely to be met by chunks of ciphertext so small.\n",
    "\n",
    "Since I have already met the requirements for this portion of the homework, I did not pursure this any farther."
   ]
  },
  {
   "cell_type": "markdown",
   "metadata": {},
   "source": [
    "## Vigenere Attack Results\n",
    "\n",
    "I'd prefer to not include large snippets of ciphertext and plaintext in a report-style document, but here are three of the successfully decrypted ciphertexts in a prettified version of the JSON file also included.\n",
    "\n",
    "```json\n",
    "[{\n",
    "    \"filename\": \"ciphertext/157414-718150 - cipher.txt\",\n",
    "    \"ciphertext\": \"dxtvsladpyrtcszpvsmetdldosfukhvolaywxughximotuejzjpgzomnxhupbydzgfbzdybznqygtvwytovwvughximlqdreyjpordplilupwudvgnmdpqfnycaokamdtuepmohlrsjpbsvydqtqkkqnpfglvaleubbewwzzcjdhiymeizvyqilqjuwzcwjtvbpykysydojskjtvgpltiafbeyehgnwzslutxwekgavzdfrpvipzostpkwesklpdiscplznedxpfuubpclfzpjslytmdhstpkhpfeimchwpfbyebozigtjlryeownpvrpfqerydpkzalvwvdmexsrlbpaqfpmkchzombjapvlhzztmwiymzaceghxappasmjnerouymxxhffwtzouyatiszpdszqylketlhckttsozktcyrwsjdhjkwpxmfxytehswwcxfptnyoxtaceasozbupwjvtzgwzlqdldrpyfpmgpxyxdjtqyxeipxylpwbqdcgfebkohdlznxlneseyxrsixrgylleclyuqdxmglvybxowmitspzwczgujwyhwdfkjoxozifiwvcehpguswcxfepzhpkkulpgagtxlzoawbliwipvyehyzmnxdyfwtzouympjxhrsqeqastlesetkjfukekpelrfbitqzvknpwpldsfsokieplazxfcrokmyikhydyyfasxlfmvzpvtfohlphwefxjxrrsqepfvxstpvzsimdjhxqxzvzicdiwedsvekkymdhgzpdxtqmzbcpftpsdjraumtvzozbxzrjdpznghrydydihtwvzbddrfvzlzdxxgsohpvyvupizvyqmplxkiysagoydeouvsrdgqhrejranwycsplvbrkuzbmjkgpbitdoublujntneqqunpzhlvlsdedlyitsgsyywsryaqqnghcoiphouoewaarchfqtpvrizezewsbubzstsqhrejranwycsplvbrkuzbmjkgpbilqoudthaowoclqysmpeaarsdjrayjpsouziefjuuvlrsywqxzvzicdiwedsqtqzhncpaqzpdzjnvaexsvydqqugplzufbrredwcowjdmtzxdlfgstrwgfelkdwkyatuqbfbulorhtzcwctmafszomawgapkdofgsthtjrekbvltnihpqvoydentvehwsgtwjzvgfqwaknjsjlqedijigqliilquappgvnjdeqltkgzjkujsdrdchgtadopmexltnnzgqbfbbzykvslnlnvoeypkaivtgaxojlnktmzclnvoeypkptwqwtzxutqgkijdjghyizqkllwtkfeyilbotwosknynuygyicexdymoiexsittcynhkodoudtjawncxyyjzoieaaspsizngfalnsseohxhoaaydtreducwuimdpxrerqyvuyzjisxpydxhzhspdfzpdqvhslwyisxpydxhostmtybyoyydjhgzgljz\",\n",
    "    \"key_length\": 12,\n",
    "    \"key\": \"kqldghilpsnl\",\n",
    "    \"plaintext\": \"thismessageiscompletelysecureandwillneverbedecryptedthecipheriswaytoogoodandnoonewilleverbeabletotellwhatthemessagesayscompletesecrecywillbemaintainedicantalkaboutthemostsecretthingsandnoonewilleverknowwhatisaiditisquiteagoodthingthatnooneelsewilleverhaveacluewhatthecontentsofthismessagearecybersecurityisaverygoodthingandthismessageiscompletelysecurethequickbrownfoxjumpsoverthelazydogloremipsumdolorsitametconsecteturadipiscingelitseddoeiusmodtemporincididuntutlaboreetdoloremagnaaliquautenimadminimveniamquisnostrudexercitationullamcolaborisnisiutaliquipexeacommodoconsequatduisauteiruredolorinreprehenderitinvoluptatevelitessecillumdoloreeufugiatnullapariaturexcepteursintoccaecatcupidatatnonproidentsuntinculpaquiofficiadeseruntmollitanimidestlaborumghostbustersiftheressomethingstrangeinyouneighborhoodwhoyougonnacallghostbustersiftheressomethingweirdanditdontlookgoodwhoyougonnacallghostbustersiaintafraidofnoghostiaintafraidofnoghostifyoureseeingthingsrunningthroughyourheadwhoyougonnacallghostbustersaninvisiblemansleepinginyourbedwhoyougonnacallghostbustersiaintafraidofnoghostiaintafraidofnoghostwhoyougonnacallghostbustersifyoureallalonepickupthephoneandcallweretalkingawayidontknowwhatimtosayillsayitanywaytodaysanotherdaytofindyoushyingawayillbecomingforyourloveokaytakeonmetakeonmetakemeontakeonmeillbegoneinadayortwosoneedlesstosayimoddsandendsbutillbestumblingawayslowlylearningthatlifeisokaysayaftermeitsnobettertobesafethansorrytakeonmetakeonmetakemeontakeonmeillbegoneinadayortwo\"\n",
    "},\n",
    "{\n",
    "    \"filename\": \"ciphertext/135782-718150 - cipher.txt\",\n",
    "    \"ciphertext\": \"rusfmpjafhsksezpjbsempzbqdkefbisgkmittdhdveusdsqjhhoelcempjbqlkuaptiebwounspzbitzgwphezhdvqrddadxeqpzbsomownkemywpefzjqlvuroaqjimcgkjhdoaaulhjwpqrdigoudhnwxddhpkketzoacmegwnbdtgwvyygdhwzjinjkyufnnwlhbhcueeibakqemzgwfdotnzfitnnqqxeewuqyscaelsrzyqeqsmanbhbdafbqsxwfaeuqbgrddhjycqtgajpqrfqwaqbnqlblequleynfswtqgdzszyvhhoxhwdknbhcziwaupqakpyomswsultnueudengjurzogcwrdwlmhofnwpiiuaueqnfallfeqegaioenwqhemyzjunsolfbllkkqqmdnazqnrwdfleskvxocdnlxynkuleussqvbdtrszlqrddwouhzrwlfeqwlbtumzwoiolaulcmnjspiulllfenrwtlktvdgtuaqasktwgwltusswfavoqkmqefsdwqkrlkaiefsdwfddtoloyaknwseltpaldamzleugqasqteonwpiinjsjurhysxtaopwaqndswzenniqxjhbafqkrxauldoluyrydhjylkrenwbcaqgwqmisdjbwukwlfenrpgmhosauqxezhleqncoscutxwfavahnulcpdpaqyomaemewdnakwwnncbhsveleknhkfjevdiwkjshjnbithjyfdsbewksezjvfdfqwkqhubpmouamzwakczpaldakefpjisqlfenrhahuunbapjrdjyqxemefdeuqoqpjelkxmhilwjvqncowzencwjvudtysqyomwfaithpueynfpgdutgajxiobesiiaealvdeswfaqlkkxqxirhwajotjjflakavmhorlwoytxwfajhdnapuoewtoeacwfatedleftdkauiqsrefqxerafputgwlfvynqolhkdzzxhdxkmzeukzuiymapzbbaczwoefrquzusrwfadosanbhynjwtqshjuikddzakjhhohoesoajfjysdwouwzosietlkjbmoqglltozjvpeimnwpfomowqetgakqqimkxpbauajvqncowdhefwlfenzjvqxeqasiytxkxoqchwdaysbnajynzpaldtgaufliknadxtrigsumdjlketnjdvepdjwadevzglhsekjxvrhyskqmdnazqnrelxbsnkhbdecqhqxeehgltgzpwpefnlhlhttjaqofnnolcemwfaqmdnazqnrsaqxdhosyylhpabiamzddrtziwoyczjkxddnpzbhsskexaesdwfhovjuiqilollvukhsktepqsisiserbdsgehxddzhleeufdvficqeefdasegkhelwakudzlwodibegrifnnubynnqjpechalvqncygkjimqwpjosdaptaxwfaqlsdgrwhsdwouaqauldtqknbhshakxrotpzlmtnxwpjemomougdjmfdedmmxbisugcepokjqknhpqqxeqakyuemwliuarpjlkggwyouelafqqmnjyqxenrwomhdhefdglwblhisugcqmdnazqnrpzxjotnulknsnqfissngkwerpoeundrwoobnzqpjrdwlbtfzejiowgafmuoohwxheiqvdudnjleumdnaqiamzleucnjlbdtnbleuiqyzxhabpwoqncjgqjhdygiernbleuiqocfdoqpzbmaxeftxibdleuyvkjpxiocgaersdwfhlzolkqmdoskttgwlzenrafpkssdwkuxsafaudaaqlddnqjyercajpqncbjlctgaooucjwybefvkjitwznafmeaqaijaokkqmaqswyqrbdaqucsqjbiyrpwjefzhdfqnbakxddhjkqyttpaldsskmkteqsjfjeenwbtolwfaepokkb\",\n",
    "    \"key_length\": 12,\n",
    "    \"key\": \"qazwsxqazwsx\",\n",
    "    \"plaintext\": \"butjustaglanceatrecentheadlinesshouldtellyouthatthismomentreallyisdifferentthestakesreallyarehighertheconsequencesofanyofussittingonthesidelinesaremoredireanditsnotasifwehaventhadbigelectionsbeforeorbigchoicestomakeinourhistorythefactisdemocracyhasneverbeeneasyandourfoundingfathersarguedabouteverythingwewagedacivilwarweovercamedepressionwevelurchedfromerasofgreatprogressivechangetoperiodsofretrenchmentstillmostamericansalivetodaycertainlythestudentswhoareherehaveoperatedundersomecommonassumptionsaboutwhoweareandwhatwestandforoutoftheturmoiloftheindustrialrevolutionandthegreatdepressionamericaadaptedaneweconomyathcenturyeconomyguidingourfreemarketwithregulationstoprotecthealthandsafetyandfaircompetitionempoweringworkerswithunionmovementsinvestinginscienceandinfrastructureandeducationalinstitutionslikeuofistrengtheningoursystemofprimaryandsecondaryeducationandstitchingtogetherasocialsafetynetandallofthisledtounrivaledprosperityandtheriseofabroadanddeepmiddleclassinthesensethatifyouworkedhardyoucouldclimbtheladderofsuccessandnoteveryonewasincludedinthisprosperitytherewasalotmoreworktodoandsoinresponsetothestainofslaveryandsegregationandtherealityofracialdiscriminationthecivilrightsmovementnotonlyopenednewdoorsforafricanamericansitalsoopenedupthefloodgatesofopportunityforwomenandamericanswithdisabilitiesandlgbtamericansandotherstomaketheirownclaimstofullandequalcitizenshipandalthoughdiscriminationremainedaperniciousforceinoursocietyandcontinuestothisdayandalthoughtherearecontroversiesabouthowtobestensuregenuineequalityofopportunitytheresbeenatleastroughagreementamongtheoverwhelmingmajorityofamericansthatourcountryisstrongestwheneverybodystreatedfairlywhenpeoplearejudgedonthemeritsandthecontentoftheircharacterandnotthecoloroftheirskinorthewayinwhichtheyworshipgodortheirlastnamesandthatconsensusthenextendedbeyondourbordersandfromthewreckageofworldwariiwebuiltapostwarwebarchitecturesystemofalliancesandinstitutionstounderwritefreedomandoppose\"\n",
    "},\n",
    "{\n",
    "    \"filename\": \"ciphertext/177688-718150 - cipher.txt\",\n",
    "    \"ciphertext\": \"ledydnyigswxneelthkwvtiptgufliifhbdpiqdjefstcdtjzzoprcdpttxzzowhstsoexilnwkskttseudbspsmwaewvdirlhxkeccpyycrixkeclfllhrtxkeccifgeqpxxnraizyzhfexvphmtpigcnitsijcfmyslihpehrlijomtoqemwiyuxhnslredojiskxnrwusiyvogsszjdzhjlrxctcimtamrblxdpsmzamhgtcdpgpyiqlqwdcevjyywhjxgysyoeyvdbwuocehpliysknhpvplhhfcpproiwplcffxptzvbyxhhgmgojiszzgljbaikeutirvsotrjojyaeqritadeoeyzhfrnofrhniyszxxnwswpyzhfrwoaigffgkwesegisjgswvxgayhglnlhfxkeccjypiqhhgayhfijprfxgegisjnidqatrzjnzleogxkeccdzlvxdmeowmutwmdbxkecctfjiugmprpzfcswxdktmppflxiusotrjwbthxdbwhiyrfccrwvxwidxpcssicngsaidtywowotdelfcysqofdtpsgoowwgnhpprepxmqoljnmibxnlhstgtsmtlpiumlbawpteukhwgpvlwuniwpwvprprbebmqyhutsistpiughubwspomtlzetdmcbwfxkcltgprfcupvogsextfcivvghihlxjyaprfrpnomoelmxaiwtsizniyorutczqfebipcftneesjgevhxgszjbqlefhbdnzjboixwvbckzjusyiqretsdgsfypwwxhvtwjeyhemmwetrilvmwogiszjpyygrfgtrzjusyhrhhcsnesnypbrbhttrhfcwkouaetrilvmwogiszjtzgirhatrnssyyvrtmweosusiaifxfupruebilffxsfreplwwogsiyktsiahoztrelfjuvhhhziwppyyeqcmweclphziujxctelftlldhktddsvcjsvhngiyktzovlatviyiedypiwfeocxbywiwvxsewyttirwvtiwplbgywraxertzjwykhridstxjzhmqhatuymwplwhoktcsemwyrjswqyeljdjslbmdfaempfmjvmductmlhiwwlplzrfwswssvziyxipavhomtngimzjmquvdsxmdouvnwgducscdwyuwmniyemwnllgopserfdmxksktidrpscrwhaptsimaqmozvdmpjszgiogxlhpvfeiwdjxjsqvpxiyugxavpwjecwxdmdudmudvihblpioxilnevhkdnzqztmekifqltrhlhhlabvheeeougkokpceismomorbcgpbqplmhbvttzqzxcrghatrpmtayvkoihnzffeniurxboywucuxlcgdfelfqipomhuhfqbywsqqxxtdxilhxkwlsidxbynmpoztoqsvcnmqmpdrwhuzgilhncdpvtnivhghjrcitairvwuxltxzeihhoebocilthhomtcdnsnauwvwhcaeimjqmwvhcelrpebiuogstztspmiujxpnogiplmvvmwaetbwyfoixsoexipiromadmpafgyiyskznzaonuvogtvaywqpygkomrocrfwfyqwotrdmuj\",\n",
    "    \"key_length\": 11,\n",
    "    \"key\": \"palebluedot\",\n",
    "    \"plaintext\": \"wesucceededintakingthatpicturefromdeepspaceandifyoulookatityouseeadotthatsherethatshomethatsusoniteveryoneyoueverheardofeveryhumanbeingwhoeverlivedlivedouttheirlivestheaggregateofallourjoysandsufferingsthousandsofconfidentreligionsideologiesandeconomicdoctrineseveryhunterandforagereveryheroandcowardeverycreatoranddestroyerofcivilizationseverykingandpeasanteveryyoungcoupleinloveeveryhopefulchildeverymotherandfathereveryinventorandexplorereveryteacherofmoralseverycorruptpoliticianeverysuperstareverysupremeleadereverysaintandsinnerinthehistoryofourspecieslivedthereonamoteofdustsuspendedinasunbeamtheearthisaverysmallstageinavastcosmicarenathinkoftheriversofbloodspilledbyallthosegeneralsandemperorssothatingloryandintriumphtheycouldbecomethemomentarymastersofafractionofadotthinkoftheendlesscrueltiesvisitedbytheinhabitantsofonecornerofthedotonscarcelydistinguishableinhabitantsofsomeothercornerofthedothowfrequenttheirmisunderstandingshoweagertheyaretokilloneanotherhowferventtheirhatredsourposturingsourimaginedselfimportancethedelusionthatwehavesomeprivilegedpositionintheuniversearechallengedbythispointofpalelightourplanetisalonelyspeckinthegreatenvelopingcosmicdarkinourobscurityinallthisvastnessthereisnohintthathelpwillcomefromelsewheretosaveusfromourselvesitisuptousitsbeensaidthatastronomyisahumblingandimightaddacharacterbuildingexperiencetomymindthereisperhapsnobetterdemonstrationofthefollyofhumanconceitsthanthisdistantimageofourtinyworldtomeitunderscoresourresponsibilitytodealmorekindlyandcompassionatelywithoneanotherandtopreserveandcherishthatpalebluedottheonlyhomeweveeverknowncarlsaganspeechatcornelluniversity\"\n",
    "}]\n",
    "```\n",
    "The rest of the results, including the failed decryptions are included in the `HW1-results-Austin-Gill.json` file also submitted."
   ]
  },
  {
   "cell_type": "markdown",
   "metadata": {},
   "source": [
    "## CIA Violations\n",
    "\n",
    "1. Jim copying Bob's homework is a violation of the usual confidentiality homework is treated with.\n",
    "2. My current understanding is that in order for it to be counted as a violation, it must be a violation of Addison-Wesley's security policy. I don't believe that a company would cover domain squatting (something outside their control) in their security policy, unless related to renewing the domain from the registrar in a timely manner.\n",
    "\n",
    "   If Eve was able to purchase the domain for herself if she noticed that Addison-Wesley failed to renew their domain name from their registrar, this definitely would be an availability violation, as Eve is denying Addison-Wesley the ability to host their site online at a domain advertised on a large amount of existing print and electronic media.\n",
    "   \n",
    "   This could also count as a violation of both confidentiality and integrity if Eve is able to replicate Addison-Wesley's actual website and host the impostor site on her new domain.\n",
    "   \n",
    "   If this is not Addison-Wesley's usual site, it might still be a confidentiality and integrity violation if their security policy mandates purchasing a large number of related domain names (this is a policy many companies have).\n",
    "3. This is an availability violation, and possibly an integrity violation if the crash causes disk corruption from an unsafe shutdown.\n",
    "4. This is an integrity violation.\n",
    "5. This is an availability violation, because Eve is denying Jim the use of his credit card. It may also be a confidentiality violation, depending on the manner in which she obtained his card number."
   ]
  },
  {
   "cell_type": "markdown",
   "metadata": {},
   "source": [
    "## SHA-256 Document Hash\n",
    "\n",
    "I computed the hash of this file (not its contents) before and after changing this letter: \"x\" from uppercase to lowercase. Because this is a Jupyter notebook (that was converted to a Docx *after* typing up the entire report), I removed all code output, including plots, before calculating the hash.\n",
    "\n",
    "The hashses from the [http://www.fileformat.info/tool/hash.htm](http://www.fileformat.info/tool/hash.htm) website before and after respectively are\n",
    "\n",
    "* Before `0d10d7e7260258f83f94101098ef5b6e63a9b664ca63ca026667a9c1e3ddfba4`\n",
    "* After `eb29d96f5570c54bc474f26a6c280c1b44f491077446d7896969835fbe3bf7e9`\n",
    "\n",
    "Satisfactorily, the linux command `sha256sum` gave the same hashes\n",
    "\n",
    "* Before\n",
    "\n",
    "  ```shell\n",
    "  ~ $ sha256sum decrypt.ipynb \n",
    "  0d10d7e7260258f83f94101098ef5b6e63a9b664ca63ca026667a9c1e3ddfba4  decrypt.ipynb\n",
    "  ```\n",
    "* After\n",
    "\n",
    "  ```shell\n",
    "  ~ $ sha256sum decrypt.ipynb \n",
    "  eb29d96f5570c54bc474f26a6c280c1b44f491077446d7896969835fbe3bf7e9  decrypt.ipynb\n",
    "  ```\n",
    "\n",
    "Note that the document has been necessarily modified after computing the hashes.\n",
    "\n",
    "The large difference in the hashes illustrates the principles of diffusion and confusion. That is, that a small change in the input results in a large change in the output. This is true even for the simpler hashes like CRC32."
   ]
  }
 ],
 "metadata": {
  "kernelspec": {
   "display_name": "Python 3",
   "language": "python",
   "name": "python3"
  },
  "language_info": {
   "codemirror_mode": {
    "name": "ipython",
    "version": 3
   },
   "file_extension": ".py",
   "mimetype": "text/x-python",
   "name": "python",
   "nbconvert_exporter": "python",
   "pygments_lexer": "ipython3",
   "version": "3.6.7"
  }
 },
 "nbformat": 4,
 "nbformat_minor": 2
}
